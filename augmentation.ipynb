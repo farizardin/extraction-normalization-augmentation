{
 "cells": [
  {
   "cell_type": "code",
   "execution_count": 19,
   "metadata": {},
   "outputs": [],
   "source": [
    "import json\n",
    "import os\n",
    "import random\n",
    "import operator\n",
    "\n",
    "rand_num = []\n",
    "\n",
    "def process(json_path):\n",
    "    with open(json_path) as f:\n",
    "        data = json.load(f)\n",
    "    vertices = 115\n",
    "    x_rand = random.uniform(0, 0.02)\n",
    "    y_rand = random.uniform(0, 0.02)\n",
    "    rand_num.append([x_rand, y_rand])\n",
    "    for i in range(0, len(data[\"data\"])):\n",
    "        x_keypoints = data[\"data\"][i][\"skeleton\"][0][\"pose\"][0::3]\n",
    "        y_keypoints = data[\"data\"][i][\"skeleton\"][0][\"pose\"][1::3]\n",
    "        for j in range(0, vertices):\n",
    "            if x_keypoints[j] != 0:\n",
    "                x_keypoints[j] += x_rand\n",
    "            if y_keypoints[j] != 0:\n",
    "                y_keypoints[j] += y_rand\n",
    "        data[\"data\"][i][\"skeleton\"][0][\"pose\"][0::3] = x_keypoints\n",
    "        data[\"data\"][i][\"skeleton\"][0][\"pose\"][1::3] = y_keypoints\n",
    "    return data"
   ]
  },
  {
   "cell_type": "code",
   "execution_count": 21,
   "metadata": {},
   "outputs": [],
   "source": [
    "import glob\n",
    "save_data_path = \"./image_crop_dynamic_bounding_box_augmented\"\n",
    "json_data_to_be_augmented = \"./image_crop_dynamic_bounding_box_normalization/*\"\n",
    "if not os.path.exists(save_data_path):\n",
    "    os.makedirs(save_data_path)\n",
    "\n",
    "x = 0\n",
    "operand = 20\n",
    "for i in range(0, 2):\n",
    "    for i in glob.glob(json_data_to_be_augmented):\n",
    "        file_name = os.path.basename(os.path.splitext(i)[0])\n",
    "        name = file_name.split(\"_\")[0]\n",
    "        new_file_name = name + \"_\"+ str(x + operand) + \".json\"\n",
    "        data = process(i)\n",
    "        save_path = os.path.join(save_data_path, new_file_name)\n",
    "        with open(save_path, \"w\") as fp:\n",
    "            json.dump(data,fp)\n",
    "        x += 1\n",
    "        if x % 20 == 0:\n",
    "            x = 0\n",
    "    operand += 20"
   ]
  }
 ],
 "metadata": {
  "kernelspec": {
   "display_name": "Python 3.8.10 64-bit",
   "language": "python",
   "name": "python3"
  },
  "language_info": {
   "codemirror_mode": {
    "name": "ipython",
    "version": 3
   },
   "file_extension": ".py",
   "mimetype": "text/x-python",
   "name": "python",
   "nbconvert_exporter": "python",
   "pygments_lexer": "ipython3",
   "version": "3.8.10"
  },
  "orig_nbformat": 4,
  "vscode": {
   "interpreter": {
    "hash": "3ee3bae0c60c8b9adee8149dd2631137c2fae79e195f7d88ea6bc910e13c5031"
   }
  }
 },
 "nbformat": 4,
 "nbformat_minor": 2
}
